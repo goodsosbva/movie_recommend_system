{
 "cells": [
  {
   "cell_type": "markdown",
   "metadata": {},
   "source": [
    "## Library import "
   ]
  },
  {
   "cell_type": "code",
   "execution_count": 21,
   "metadata": {},
   "outputs": [],
   "source": [
    "from bs4 import BeautifulSoup  \n",
    "import pandas as pd\n",
    "from tqdm import tqdm_notebook\n",
    "import nltk\n",
    "import re\n",
    "from urllib.request import urlopen\n",
    "import requests \n",
    "from selenium import webdriver as wd \n",
    "from selenium.webdriver.common.keys import Keys "
   ]
  },
  {
   "cell_type": "code",
   "execution_count": 22,
   "metadata": {},
   "outputs": [],
   "source": [
    "import numpy as np\n",
    "import matplotlib.pyplot as plt\n",
    "import seaborn as sns\n",
    "from ast import literal_eval\n",
    "from sklearn.feature_extraction.text import TfidfVectorizer\n",
    "from sklearn.feature_extraction.text import CountVectorizer\n",
    "from sklearn.metrics.pairwise import cosine_similarity"
   ]
  },
  {
   "cell_type": "markdown",
   "metadata": {},
   "source": [
    "## Crawling"
   ]
  },
  {
   "cell_type": "code",
   "execution_count": 10,
   "metadata": {},
   "outputs": [
    {
     "name": "stderr",
     "output_type": "stream",
     "text": [
      "<ipython-input-10-1629fa7d9577>:5: TqdmDeprecationWarning: This function will be removed in tqdm==5.0.0\n",
      "Please use `tqdm.notebook.tqdm` instead of `tqdm.tqdm_notebook`\n",
      "  for i in tqdm_notebook(range (1,11)):\n"
     ]
    },
    {
     "data": {
      "application/vnd.jupyter.widget-view+json": {
       "model_id": "5ebe5b09100b447b8b0aeca17fdb36ba",
       "version_major": 2,
       "version_minor": 0
      },
      "text/plain": [
       "HBox(children=(FloatProgress(value=0.0, max=10.0), HTML(value='')))"
      ]
     },
     "metadata": {},
     "output_type": "display_data"
    },
    {
     "name": "stderr",
     "output_type": "stream",
     "text": [
      "<ipython-input-10-1629fa7d9577>:17: TqdmDeprecationWarning: This function will be removed in tqdm==5.0.0\n",
      "Please use `tqdm.notebook.tqdm` instead of `tqdm.tqdm_notebook`\n",
      "  for j in tqdm_notebook(range(len(href))):\n"
     ]
    },
    {
     "data": {
      "application/vnd.jupyter.widget-view+json": {
       "model_id": "35e4c9202f16460badd4dbbce5c45e12",
       "version_major": 2,
       "version_minor": 0
      },
      "text/plain": [
       "HBox(children=(FloatProgress(value=0.0, max=50.0), HTML(value='')))"
      ]
     },
     "metadata": {},
     "output_type": "display_data"
    },
    {
     "name": "stdout",
     "output_type": "stream",
     "text": [
      "\n"
     ]
    },
    {
     "data": {
      "application/vnd.jupyter.widget-view+json": {
       "model_id": "597f67f6efda4106919c9ff7bca7634a",
       "version_major": 2,
       "version_minor": 0
      },
      "text/plain": [
       "HBox(children=(FloatProgress(value=0.0, max=50.0), HTML(value='')))"
      ]
     },
     "metadata": {},
     "output_type": "display_data"
    },
    {
     "name": "stdout",
     "output_type": "stream",
     "text": [
      "\n"
     ]
    },
    {
     "data": {
      "application/vnd.jupyter.widget-view+json": {
       "model_id": "f22f56bf98b0469b80bb5b7b5b3ad888",
       "version_major": 2,
       "version_minor": 0
      },
      "text/plain": [
       "HBox(children=(FloatProgress(value=0.0, max=50.0), HTML(value='')))"
      ]
     },
     "metadata": {},
     "output_type": "display_data"
    },
    {
     "name": "stdout",
     "output_type": "stream",
     "text": [
      "\n"
     ]
    },
    {
     "data": {
      "application/vnd.jupyter.widget-view+json": {
       "model_id": "4c0f9e2d7bad44a8b2323d5ec936bfcf",
       "version_major": 2,
       "version_minor": 0
      },
      "text/plain": [
       "HBox(children=(FloatProgress(value=0.0, max=50.0), HTML(value='')))"
      ]
     },
     "metadata": {},
     "output_type": "display_data"
    },
    {
     "name": "stdout",
     "output_type": "stream",
     "text": [
      "\n"
     ]
    },
    {
     "data": {
      "application/vnd.jupyter.widget-view+json": {
       "model_id": "96948a786f934c7d87b0f58e49f5435c",
       "version_major": 2,
       "version_minor": 0
      },
      "text/plain": [
       "HBox(children=(FloatProgress(value=0.0, max=50.0), HTML(value='')))"
      ]
     },
     "metadata": {},
     "output_type": "display_data"
    },
    {
     "name": "stdout",
     "output_type": "stream",
     "text": [
      "\n"
     ]
    },
    {
     "data": {
      "application/vnd.jupyter.widget-view+json": {
       "model_id": "856ed9e559074d3eb7a5eb71c77d47ea",
       "version_major": 2,
       "version_minor": 0
      },
      "text/plain": [
       "HBox(children=(FloatProgress(value=0.0, max=50.0), HTML(value='')))"
      ]
     },
     "metadata": {},
     "output_type": "display_data"
    },
    {
     "name": "stdout",
     "output_type": "stream",
     "text": [
      "\n"
     ]
    },
    {
     "data": {
      "application/vnd.jupyter.widget-view+json": {
       "model_id": "93a7ef3043c1433cb8215d4bcd501076",
       "version_major": 2,
       "version_minor": 0
      },
      "text/plain": [
       "HBox(children=(FloatProgress(value=0.0, max=50.0), HTML(value='')))"
      ]
     },
     "metadata": {},
     "output_type": "display_data"
    },
    {
     "name": "stdout",
     "output_type": "stream",
     "text": [
      "\n"
     ]
    },
    {
     "data": {
      "application/vnd.jupyter.widget-view+json": {
       "model_id": "f9238f918a5647a0982c18fca327ee08",
       "version_major": 2,
       "version_minor": 0
      },
      "text/plain": [
       "HBox(children=(FloatProgress(value=0.0, max=50.0), HTML(value='')))"
      ]
     },
     "metadata": {},
     "output_type": "display_data"
    },
    {
     "name": "stdout",
     "output_type": "stream",
     "text": [
      "\n"
     ]
    },
    {
     "data": {
      "application/vnd.jupyter.widget-view+json": {
       "model_id": "ab10e5c519ed4d8eae36002dcc944bdb",
       "version_major": 2,
       "version_minor": 0
      },
      "text/plain": [
       "HBox(children=(FloatProgress(value=0.0, max=50.0), HTML(value='')))"
      ]
     },
     "metadata": {},
     "output_type": "display_data"
    },
    {
     "name": "stdout",
     "output_type": "stream",
     "text": [
      "\n"
     ]
    },
    {
     "data": {
      "application/vnd.jupyter.widget-view+json": {
       "model_id": "f4fb3288e2e04a1d8f3d1a65905d5593",
       "version_major": 2,
       "version_minor": 0
      },
      "text/plain": [
       "HBox(children=(FloatProgress(value=0.0, max=50.0), HTML(value='')))"
      ]
     },
     "metadata": {},
     "output_type": "display_data"
    },
    {
     "name": "stdout",
     "output_type": "stream",
     "text": [
      "\n",
      "\n"
     ]
    },
    {
     "name": "stderr",
     "output_type": "stream",
     "text": [
      "<ipython-input-10-1629fa7d9577>:34: TqdmDeprecationWarning: This function will be removed in tqdm==5.0.0\n",
      "Please use `tqdm.notebook.tqdm` instead of `tqdm.tqdm_notebook`\n",
      "  for i in tqdm_notebook(range(len(story))):\n"
     ]
    },
    {
     "data": {
      "application/vnd.jupyter.widget-view+json": {
       "model_id": "62c37f88b6174fd88cdc0fa9e05756e3",
       "version_major": 2,
       "version_minor": 0
      },
      "text/plain": [
       "HBox(children=(FloatProgress(value=0.0, max=360.0), HTML(value='')))"
      ]
     },
     "metadata": {},
     "output_type": "display_data"
    },
    {
     "name": "stdout",
     "output_type": "stream",
     "text": [
      "\n"
     ]
    }
   ],
   "source": [
    "domain='https://movie.naver.com'\n",
    "story=[]\n",
    "title=[]\n",
    "genre=[]\n",
    "for i in tqdm_notebook(range (1,11)):\n",
    "    url=\"https://movie.naver.com/movie/sdb/rank/rmovie.nhn?sel=pnt&date=20191201&page=\"+str(i)\n",
    "    html = urlopen(url)\n",
    "    soup = BeautifulSoup(html,\"html.parser\")\n",
    "    titles=soup.find_all('div',class_='tit5')\n",
    "    hype=[]\n",
    "    href=[]\n",
    "    try:\n",
    "        for each in titles:\n",
    "                hype=each.find_all('a')\n",
    "                for link in hype:\n",
    "                    href.append(link['href'])\n",
    "        for j in tqdm_notebook(range(len(href))):\n",
    "                domain='https://movie.naver.com'\n",
    "                domain=domain+href[j]\n",
    "                html=urlopen(domain)\n",
    "                soup=BeautifulSoup(html,\"html.parser\")\n",
    "                story.append(soup.find('p',class_=\"con_tx\").get_text())\n",
    "                title_tag=soup.find('h3',class_='h_movie')\n",
    "                title.append(title_tag.find('a').get_text())\n",
    "                genre_tag=soup.find('p')\n",
    "                genre.append(genre_tag.find('a').get_text())\n",
    "    except:\n",
    "        pass\n",
    "                  \n",
    "\n",
    "#스토리 정규화 처리\n",
    "import re\n",
    "\n",
    "for i in tqdm_notebook(range(len(story))):\n",
    "    story[i] = re.sub('[-=+,#/\\?:^$.@*\\\"※~&%ㆍ!』\\\\‘|\\(\\)\\[\\]\\<\\>`\\'…》“”’]','',story[i] )\n",
    "    story[i] = re.sub('\\r\\xa0','',story[i] )"
   ]
  },
  {
   "cell_type": "markdown",
   "metadata": {},
   "source": [
    "## 데이터 확인"
   ]
  },
  {
   "cell_type": "code",
   "execution_count": 23,
   "metadata": {},
   "outputs": [
    {
     "data": {
      "text/plain": [
       "('그린 북', '드라마')"
      ]
     },
     "execution_count": 23,
     "metadata": {},
     "output_type": "execute_result"
    }
   ],
   "source": [
    "title[0], genre[0]"
   ]
  },
  {
   "cell_type": "markdown",
   "metadata": {},
   "source": [
    "## DataFrame 저장"
   ]
  },
  {
   "cell_type": "code",
   "execution_count": 24,
   "metadata": {},
   "outputs": [],
   "source": [
    "movie_df=pd.DataFrame(data={'제목':title,'줄거리':story,'장르':genre})"
   ]
  },
  {
   "cell_type": "code",
   "execution_count": 25,
   "metadata": {},
   "outputs": [
    {
     "data": {
      "text/html": [
       "<div>\n",
       "<style scoped>\n",
       "    .dataframe tbody tr th:only-of-type {\n",
       "        vertical-align: middle;\n",
       "    }\n",
       "\n",
       "    .dataframe tbody tr th {\n",
       "        vertical-align: top;\n",
       "    }\n",
       "\n",
       "    .dataframe thead th {\n",
       "        text-align: right;\n",
       "    }\n",
       "</style>\n",
       "<table border=\"1\" class=\"dataframe\">\n",
       "  <thead>\n",
       "    <tr style=\"text-align: right;\">\n",
       "      <th></th>\n",
       "      <th>제목</th>\n",
       "      <th>줄거리</th>\n",
       "      <th>장르</th>\n",
       "    </tr>\n",
       "  </thead>\n",
       "  <tbody>\n",
       "    <tr>\n",
       "      <th>0</th>\n",
       "      <td>그린 북</td>\n",
       "      <td>1962년 미국 입담과 주먹만 믿고 살아가던 토니 발레롱가비고 모텐슨는 교양과 우아...</td>\n",
       "      <td>드라마</td>\n",
       "    </tr>\n",
       "    <tr>\n",
       "      <th>1</th>\n",
       "      <td>가버나움</td>\n",
       "      <td>나를 세상에 태어나게 한 부모님을 고소하고 싶어요출생기록조차 없이 살아온 어쩌면 1...</td>\n",
       "      <td>드라마</td>\n",
       "    </tr>\n",
       "    <tr>\n",
       "      <th>2</th>\n",
       "      <td>베일리 어게인</td>\n",
       "      <td>귀여운 소년 이든의 단짝 반려견 베일리는 행복한 생을 마감한다하지만 눈을 떠보니 다...</td>\n",
       "      <td>모험</td>\n",
       "    </tr>\n",
       "    <tr>\n",
       "      <th>3</th>\n",
       "      <td>아일라</td>\n",
       "      <td>1950년 한국전쟁에 파병된 슐레이만은 칠흑 같은 어둠 속 홀로 남겨진 5살 소녀를...</td>\n",
       "      <td>드라마</td>\n",
       "    </tr>\n",
       "    <tr>\n",
       "      <th>4</th>\n",
       "      <td>주전장</td>\n",
       "      <td>일본의 인종차별 문제를 다룬 영상을 올린 후 우익들의 공격 대상이 된 일본계 미국인...</td>\n",
       "      <td>다큐멘터리</td>\n",
       "    </tr>\n",
       "  </tbody>\n",
       "</table>\n",
       "</div>"
      ],
      "text/plain": [
       "        제목                                                줄거리     장르\n",
       "0     그린 북  1962년 미국 입담과 주먹만 믿고 살아가던 토니 발레롱가비고 모텐슨는 교양과 우아...    드라마\n",
       "1     가버나움  나를 세상에 태어나게 한 부모님을 고소하고 싶어요출생기록조차 없이 살아온 어쩌면 1...    드라마\n",
       "2  베일리 어게인  귀여운 소년 이든의 단짝 반려견 베일리는 행복한 생을 마감한다하지만 눈을 떠보니 다...     모험\n",
       "3      아일라  1950년 한국전쟁에 파병된 슐레이만은 칠흑 같은 어둠 속 홀로 남겨진 5살 소녀를...    드라마\n",
       "4      주전장  일본의 인종차별 문제를 다룬 영상을 올린 후 우익들의 공격 대상이 된 일본계 미국인...  다큐멘터리"
      ]
     },
     "execution_count": 25,
     "metadata": {},
     "output_type": "execute_result"
    }
   ],
   "source": [
    "movie_df.head()"
   ]
  },
  {
   "cell_type": "code",
   "execution_count": 26,
   "metadata": {},
   "outputs": [],
   "source": [
    "movie_df['합침'] = (movie_df['제목']) + movie_df['줄거리'] + (movie_df['장르'])"
   ]
  },
  {
   "cell_type": "code",
   "execution_count": 27,
   "metadata": {},
   "outputs": [
    {
     "data": {
      "text/plain": [
       "'그린 북1962년 미국 입담과 주먹만 믿고 살아가던 토니 발레롱가비고 모텐슨는 교양과 우아함 그 자체인천재 피아니스트 돈 셜리마허샬라 알리 박사의 운전기사 면접을 보게 된다백악관에도 초청되는 등 미국 전역에서 콘서트 요청을 받으며 명성을 떨치고 있는 돈 셜리는위험하기로 소문난 미국 남부 투어 공연을 떠나기로 결심하고투어 기간 동안 자신의 보디가드 겸 운전기사로 토니를 고용한다거친 인생을 살아온 토니 발레롱가와 교양과 기품을 지키며 살아온 돈 셜리 박사생각 행동 말투 취향까지 달라도 너무 다른 두 사람은그들을 위한 여행안내서 그린북에 의존해 특별한 남부 투어를 시작하는데드라마'"
      ]
     },
     "execution_count": 27,
     "metadata": {},
     "output_type": "execute_result"
    }
   ],
   "source": [
    "movie_df['합침'][0]"
   ]
  },
  {
   "cell_type": "code",
   "execution_count": 28,
   "metadata": {},
   "outputs": [],
   "source": [
    "from sklearn.feature_extraction.text import TfidfVectorizer\n",
    "tfidf = TfidfVectorizer(stop_words='english')\n",
    "movie_df['합침'] = movie_df['합침'].fillna('')"
   ]
  },
  {
   "cell_type": "code",
   "execution_count": 29,
   "metadata": {},
   "outputs": [
    {
     "name": "stdout",
     "output_type": "stream",
     "text": [
      "(360, 21784)\n"
     ]
    }
   ],
   "source": [
    "tfidf_matrix = tfidf.fit_transform(movie_df['합침'])\n",
    "# overview에 대해서 tf-idf 수행\n",
    "print(tfidf_matrix.shape)"
   ]
  },
  {
   "cell_type": "code",
   "execution_count": 30,
   "metadata": {},
   "outputs": [],
   "source": [
    "#코사인유사도\n",
    "from sklearn.metrics.pairwise import linear_kernel\n",
    "cosine_sim = linear_kernel(tfidf_matrix, tfidf_matrix)"
   ]
  },
  {
   "cell_type": "code",
   "execution_count": 32,
   "metadata": {},
   "outputs": [
    {
     "name": "stdout",
     "output_type": "stream",
     "text": [
      "제목\n",
      "그린 북       0\n",
      "가버나움       1\n",
      "베일리 어게인    2\n",
      "아일라        3\n",
      "주전장        4\n",
      "dtype: int64\n"
     ]
    }
   ],
   "source": [
    "indices = pd.Series(movie_df.index, index=movie_df['제목']).drop_duplicates()\n",
    "print(indices.head())\n",
    "#영화의 타이틀과 인덱스를 가진 테이블을 만듬\n",
    "#영화 타이틀을 입력하면 인덱스를 리턴하려고 만듬"
   ]
  },
  {
   "cell_type": "markdown",
   "metadata": {},
   "source": [
    "### 추천 영화의 수"
   ]
  },
  {
   "cell_type": "code",
   "execution_count": 33,
   "metadata": {},
   "outputs": [],
   "source": [
    "movie_rec_num = 30"
   ]
  },
  {
   "cell_type": "code",
   "execution_count": 34,
   "metadata": {},
   "outputs": [],
   "source": [
    "def get_recomm(title, cosine_sim=cosine_sim):\n",
    "    choice = []\n",
    "    # 선택한 영화의 타이틀로부터 해당되는 인덱스를 받아옵니다. 이제 선택한 영화를 가지고 연산할 수 있습니다.\n",
    "    idx = indices[title]\n",
    "\n",
    "    # 모든 영화에 대해서 해당 영화와의 유사도를 구합니다.\n",
    "    sim_scores = list(enumerate(cosine_sim[idx]))\n",
    "\n",
    "    # 유사도에 따라 영화들을 정렬합니다.\n",
    "    sim_scores = sorted(sim_scores, key=lambda x: x[1], reverse=True)\n",
    "\n",
    "    # 가장 유사한 10개의 영화를 받아옵니다.\n",
    "    sim_scores = sim_scores[1:movie_rec_num + 1]\n",
    "\n",
    "    # 가장 유사한 10개의 영화의 인덱스를 받아옵니다.\n",
    "    movie_indices = [i[0] for i in sim_scores]\n",
    "    \n",
    "    for i in range(movie_rec_num):\n",
    "        choice.append(movie_df['제목'][movie_indices[i]])\n",
    "    # 가장 유사한 10개의 영화의 제목을 리턴합니다.\n",
    "    print('***영화 추천 순위***')\n",
    "    for i in range(movie_rec_num):\n",
    "        print(str(i+1) + '순위 : ' + choice[i])\n",
    "        \n",
    "    return sim_scores"
   ]
  },
  {
   "cell_type": "code",
   "execution_count": null,
   "metadata": {},
   "outputs": [],
   "source": []
  },
  {
   "cell_type": "code",
   "execution_count": null,
   "metadata": {
    "scrolled": false
   },
   "outputs": [],
   "source": []
  },
  {
   "cell_type": "code",
   "execution_count": 36,
   "metadata": {},
   "outputs": [],
   "source": [
    "genre_sim_df = TfidfVectorizer"
   ]
  },
  {
   "cell_type": "markdown",
   "metadata": {},
   "source": [
    "### 장르 기반  코사인 유사도 추천 시스템을 위한 전처리"
   ]
  },
  {
   "cell_type": "code",
   "execution_count": 37,
   "metadata": {},
   "outputs": [],
   "source": [
    "movie_df['장르 상수'] = movie_df['장르'].apply(lambda x : (' ').join(x))"
   ]
  },
  {
   "cell_type": "code",
   "execution_count": 38,
   "metadata": {},
   "outputs": [],
   "source": [
    "movie_df['장르 상수'] = movie_df['장르 상수'].apply(lambda x : x.replace(' ', ''))"
   ]
  },
  {
   "cell_type": "code",
   "execution_count": 39,
   "metadata": {},
   "outputs": [],
   "source": [
    "movie_df['장르 상수'] = movie_df['장르 상수'].apply(lambda x : x.replace('/', ' '))"
   ]
  },
  {
   "cell_type": "code",
   "execution_count": 40,
   "metadata": {},
   "outputs": [
    {
     "name": "stdout",
     "output_type": "stream",
     "text": [
      "멜로 로맨스\n"
     ]
    }
   ],
   "source": [
    "print(movie_df['장르 상수'][30])"
   ]
  },
  {
   "cell_type": "code",
   "execution_count": null,
   "metadata": {},
   "outputs": [],
   "source": []
  },
  {
   "cell_type": "markdown",
   "metadata": {},
   "source": [
    "\n",
    "## 장르 기반 코사인 유사도"
   ]
  },
  {
   "cell_type": "code",
   "execution_count": 41,
   "metadata": {},
   "outputs": [],
   "source": [
    "count_vector = CountVectorizer(min_df=0, ngram_range=(1, 2))"
   ]
  },
  {
   "cell_type": "code",
   "execution_count": 42,
   "metadata": {},
   "outputs": [],
   "source": [
    "genre_mat = count_vector.fit_transform(movie_df['장르 상수'])"
   ]
  },
  {
   "cell_type": "code",
   "execution_count": 43,
   "metadata": {},
   "outputs": [],
   "source": [
    "gerne_c_sim = cosine_similarity(genre_mat, genre_mat)"
   ]
  },
  {
   "cell_type": "code",
   "execution_count": 44,
   "metadata": {},
   "outputs": [],
   "source": [
    "genre_sim_sorted_ind = gerne_c_sim.argsort()[:, ::-1]"
   ]
  },
  {
   "cell_type": "code",
   "execution_count": 45,
   "metadata": {},
   "outputs": [
    {
     "data": {
      "text/plain": [
       "(360, 360)"
      ]
     },
     "execution_count": 45,
     "metadata": {},
     "output_type": "execute_result"
    }
   ],
   "source": [
    "gerne_c_sim.shape"
   ]
  },
  {
   "cell_type": "code",
   "execution_count": 46,
   "metadata": {},
   "outputs": [],
   "source": [
    "def find_sim_movie(df, sorted_ind, title_name, top_n=30):\n",
    "    title_movie = df[df['제목'] == title_name]\n",
    "    title_index = title_movie.index.values\n",
    "    similar_indexes = sorted_ind[title_index, :(top_n)]\n",
    "    print(similar_indexes)\n",
    "    similar_indexes = similar_indexes.reshape(-1)\n",
    "    return df.iloc[similar_indexes], similar_indexes"
   ]
  },
  {
   "cell_type": "code",
   "execution_count": 47,
   "metadata": {},
   "outputs": [
    {
     "name": "stdout",
     "output_type": "stream",
     "text": [
      "[[179 193 281  65  63 288 216  58 126 209 299  49 242 302 129 202 199  39\n",
      "  196 279 113 111 257  91 251  87  86  85  84 101]]\n"
     ]
    }
   ],
   "source": [
    "movie, movie_idx = find_sim_movie(movie_df, genre_sim_sorted_ind, '모노노케 히메', 30)"
   ]
  },
  {
   "cell_type": "code",
   "execution_count": 48,
   "metadata": {
    "scrolled": true
   },
   "outputs": [
    {
     "data": {
      "text/html": [
       "<div>\n",
       "<style scoped>\n",
       "    .dataframe tbody tr th:only-of-type {\n",
       "        vertical-align: middle;\n",
       "    }\n",
       "\n",
       "    .dataframe tbody tr th {\n",
       "        vertical-align: top;\n",
       "    }\n",
       "\n",
       "    .dataframe thead th {\n",
       "        text-align: right;\n",
       "    }\n",
       "</style>\n",
       "<table border=\"1\" class=\"dataframe\">\n",
       "  <thead>\n",
       "    <tr style=\"text-align: right;\">\n",
       "      <th></th>\n",
       "      <th>제목</th>\n",
       "      <th>장르</th>\n",
       "    </tr>\n",
       "  </thead>\n",
       "  <tbody>\n",
       "    <tr>\n",
       "      <th>179</th>\n",
       "      <td>고 녀석 맛나겠다</td>\n",
       "      <td>애니메이션</td>\n",
       "    </tr>\n",
       "    <tr>\n",
       "      <th>193</th>\n",
       "      <td>명탐정 코난: 천공의 난파선</td>\n",
       "      <td>애니메이션</td>\n",
       "    </tr>\n",
       "    <tr>\n",
       "      <th>281</th>\n",
       "      <td>하울의 움직이는 성</td>\n",
       "      <td>애니메이션</td>\n",
       "    </tr>\n",
       "    <tr>\n",
       "      <th>65</th>\n",
       "      <td>라푼젤</td>\n",
       "      <td>애니메이션</td>\n",
       "    </tr>\n",
       "    <tr>\n",
       "      <th>63</th>\n",
       "      <td>드래곤 길들이기</td>\n",
       "      <td>애니메이션</td>\n",
       "    </tr>\n",
       "    <tr>\n",
       "      <th>288</th>\n",
       "      <td>짱구는 못말려 극장판: 정면승부! 로봇아빠의 역습</td>\n",
       "      <td>애니메이션</td>\n",
       "    </tr>\n",
       "    <tr>\n",
       "      <th>216</th>\n",
       "      <td>하이 스피드! –프리! 스타팅 데이즈</td>\n",
       "      <td>애니메이션</td>\n",
       "    </tr>\n",
       "    <tr>\n",
       "      <th>58</th>\n",
       "      <td>아이언 자이언트</td>\n",
       "      <td>애니메이션</td>\n",
       "    </tr>\n",
       "    <tr>\n",
       "      <th>126</th>\n",
       "      <td>이웃집 토토로</td>\n",
       "      <td>애니메이션</td>\n",
       "    </tr>\n",
       "    <tr>\n",
       "      <th>209</th>\n",
       "      <td>스파이더맨: 뉴 유니버스</td>\n",
       "      <td>애니메이션</td>\n",
       "    </tr>\n",
       "    <tr>\n",
       "      <th>299</th>\n",
       "      <td>명탐정 코난 : 제로의 집행인</td>\n",
       "      <td>애니메이션</td>\n",
       "    </tr>\n",
       "    <tr>\n",
       "      <th>49</th>\n",
       "      <td>모노노케 히메</td>\n",
       "      <td>애니메이션</td>\n",
       "    </tr>\n",
       "    <tr>\n",
       "      <th>242</th>\n",
       "      <td>점박이 한반도의 공룡2 : 새로운 낙원</td>\n",
       "      <td>애니메이션</td>\n",
       "    </tr>\n",
       "    <tr>\n",
       "      <th>302</th>\n",
       "      <td>토이 스토리 4</td>\n",
       "      <td>애니메이션</td>\n",
       "    </tr>\n",
       "    <tr>\n",
       "      <th>129</th>\n",
       "      <td>코코</td>\n",
       "      <td>애니메이션</td>\n",
       "    </tr>\n",
       "    <tr>\n",
       "      <th>202</th>\n",
       "      <td>스피릿</td>\n",
       "      <td>애니메이션</td>\n",
       "    </tr>\n",
       "    <tr>\n",
       "      <th>199</th>\n",
       "      <td>러빙 빈센트</td>\n",
       "      <td>애니메이션</td>\n",
       "    </tr>\n",
       "    <tr>\n",
       "      <th>39</th>\n",
       "      <td>주토피아</td>\n",
       "      <td>애니메이션</td>\n",
       "    </tr>\n",
       "    <tr>\n",
       "      <th>196</th>\n",
       "      <td>보루토 - 나루토 더 무비</td>\n",
       "      <td>애니메이션</td>\n",
       "    </tr>\n",
       "    <tr>\n",
       "      <th>279</th>\n",
       "      <td>빅 히어로</td>\n",
       "      <td>애니메이션</td>\n",
       "    </tr>\n",
       "    <tr>\n",
       "      <th>113</th>\n",
       "      <td>라이온 킹</td>\n",
       "      <td>애니메이션</td>\n",
       "    </tr>\n",
       "    <tr>\n",
       "      <th>111</th>\n",
       "      <td>몬스터 주식회사 3D</td>\n",
       "      <td>애니메이션</td>\n",
       "    </tr>\n",
       "    <tr>\n",
       "      <th>257</th>\n",
       "      <td>코렐라인: 비밀의 문</td>\n",
       "      <td>애니메이션</td>\n",
       "    </tr>\n",
       "    <tr>\n",
       "      <th>91</th>\n",
       "      <td>토이 스토리</td>\n",
       "      <td>애니메이션</td>\n",
       "    </tr>\n",
       "    <tr>\n",
       "      <th>251</th>\n",
       "      <td>킹 오브 프리즘 프라이드 더 히어로</td>\n",
       "      <td>애니메이션</td>\n",
       "    </tr>\n",
       "    <tr>\n",
       "      <th>87</th>\n",
       "      <td>오세암</td>\n",
       "      <td>애니메이션</td>\n",
       "    </tr>\n",
       "    <tr>\n",
       "      <th>86</th>\n",
       "      <td>아기공룡 둘리 - 얼음별 대모험</td>\n",
       "      <td>애니메이션</td>\n",
       "    </tr>\n",
       "    <tr>\n",
       "      <th>85</th>\n",
       "      <td>알라딘</td>\n",
       "      <td>애니메이션</td>\n",
       "    </tr>\n",
       "    <tr>\n",
       "      <th>84</th>\n",
       "      <td>언더독</td>\n",
       "      <td>애니메이션</td>\n",
       "    </tr>\n",
       "    <tr>\n",
       "      <th>101</th>\n",
       "      <td>뽀로로 극장판 보물섬 대모험</td>\n",
       "      <td>애니메이션</td>\n",
       "    </tr>\n",
       "  </tbody>\n",
       "</table>\n",
       "</div>"
      ],
      "text/plain": [
       "                              제목     장르\n",
       "179                    고 녀석 맛나겠다  애니메이션\n",
       "193              명탐정 코난: 천공의 난파선  애니메이션\n",
       "281                   하울의 움직이는 성  애니메이션\n",
       "65                           라푼젤  애니메이션\n",
       "63                      드래곤 길들이기  애니메이션\n",
       "288  짱구는 못말려 극장판: 정면승부! 로봇아빠의 역습  애니메이션\n",
       "216         하이 스피드! –프리! 스타팅 데이즈  애니메이션\n",
       "58                      아이언 자이언트  애니메이션\n",
       "126                      이웃집 토토로  애니메이션\n",
       "209                스파이더맨: 뉴 유니버스  애니메이션\n",
       "299             명탐정 코난 : 제로의 집행인  애니메이션\n",
       "49                       모노노케 히메  애니메이션\n",
       "242        점박이 한반도의 공룡2 : 새로운 낙원  애니메이션\n",
       "302                     토이 스토리 4  애니메이션\n",
       "129                           코코  애니메이션\n",
       "202                          스피릿  애니메이션\n",
       "199                       러빙 빈센트  애니메이션\n",
       "39                          주토피아  애니메이션\n",
       "196               보루토 - 나루토 더 무비  애니메이션\n",
       "279                        빅 히어로  애니메이션\n",
       "113                        라이온 킹  애니메이션\n",
       "111                  몬스터 주식회사 3D  애니메이션\n",
       "257                  코렐라인: 비밀의 문  애니메이션\n",
       "91                        토이 스토리  애니메이션\n",
       "251          킹 오브 프리즘 프라이드 더 히어로  애니메이션\n",
       "87                           오세암  애니메이션\n",
       "86             아기공룡 둘리 - 얼음별 대모험  애니메이션\n",
       "85                           알라딘  애니메이션\n",
       "84                           언더독  애니메이션\n",
       "101              뽀로로 극장판 보물섬 대모험  애니메이션"
      ]
     },
     "execution_count": 48,
     "metadata": {},
     "output_type": "execute_result"
    }
   ],
   "source": [
    "movie[['제목', '장르']]"
   ]
  },
  {
   "cell_type": "code",
   "execution_count": 49,
   "metadata": {},
   "outputs": [
    {
     "data": {
      "text/plain": [
       "array([179, 193, 281,  65,  63, 288, 216,  58, 126, 209, 299,  49, 242,\n",
       "       302, 129, 202, 199,  39, 196, 279, 113, 111, 257,  91, 251,  87,\n",
       "        86,  85,  84, 101], dtype=int64)"
      ]
     },
     "execution_count": 49,
     "metadata": {},
     "output_type": "execute_result"
    }
   ],
   "source": [
    "movie_idx"
   ]
  },
  {
   "cell_type": "code",
   "execution_count": 50,
   "metadata": {},
   "outputs": [
    {
     "data": {
      "text/plain": [
       "[(91, 0.05789423623009831),\n",
       " (110, 0.049764035708474035),\n",
       " (341, 0.045801159678433526),\n",
       " (145, 0.04422738729867952),\n",
       " (334, 0.043084131772754344),\n",
       " (173, 0.040047817988804156),\n",
       " (18, 0.03918471528568475),\n",
       " (157, 0.03696597905421905),\n",
       " (70, 0.03695513841892422),\n",
       " (270, 0.03575722708605544),\n",
       " (138, 0.035587186263818224),\n",
       " (47, 0.03554199617462622),\n",
       " (42, 0.03529601263992653),\n",
       " (229, 0.03469337267238399),\n",
       " (298, 0.03435594064125684),\n",
       " (152, 0.032363670718655965),\n",
       " (280, 0.03209060349165934),\n",
       " (48, 0.03100272452559297),\n",
       " (337, 0.03075861672203851),\n",
       " (30, 0.03060788376753946),\n",
       " (264, 0.02982366368595319),\n",
       " (86, 0.02981251443681494),\n",
       " (94, 0.02935502727218175),\n",
       " (204, 0.02935133948723902),\n",
       " (275, 0.02866982151099471),\n",
       " (104, 0.028572685047846387),\n",
       " (60, 0.02855370216590311),\n",
       " (208, 0.028103264303094157),\n",
       " (258, 0.02790797004123544),\n",
       " (3, 0.027900058825155245)]"
      ]
     },
     "execution_count": 50,
     "metadata": {},
     "output_type": "execute_result"
    }
   ],
   "source": [
    "story_idx"
   ]
  },
  {
   "cell_type": "markdown",
   "metadata": {},
   "source": [
    "### 겹치는 영화 존재하는지 검사"
   ]
  },
  {
   "cell_type": "code",
   "execution_count": 82,
   "metadata": {},
   "outputs": [
    {
     "name": "stdout",
     "output_type": "stream",
     "text": [
      "[179, 193, 281, 65, 63, 288, 216, 58, 126, 209, 299, 49, 242, 302, 129, 202, 199, 39, 196, 279, 113, 111, 257, 91, 251, 87, 86, 85, 84, 101]\n",
      "[(91, 0.05789423623009831), (110, 0.049764035708474035), (341, 0.045801159678433526), (145, 0.04422738729867952), (334, 0.043084131772754344), (173, 0.040047817988804156), (18, 0.03918471528568475), (157, 0.03696597905421905), (70, 0.03695513841892422), (270, 0.03575722708605544), (138, 0.035587186263818224), (47, 0.03554199617462622), (42, 0.03529601263992653), (229, 0.03469337267238399), (298, 0.03435594064125684), (152, 0.032363670718655965), (280, 0.03209060349165934), (48, 0.03100272452559297), (337, 0.03075861672203851), (30, 0.03060788376753946), (264, 0.02982366368595319), (86, 0.02981251443681494), (94, 0.02935502727218175), (204, 0.02935133948723902), (275, 0.02866982151099471), (104, 0.028572685047846387), (60, 0.02855370216590311), (208, 0.028103264303094157), (258, 0.02790797004123544), (3, 0.027900058825155245)]\n",
      "test 91\n",
      "겹치는 영화의 수 :  2\n",
      "겹치는 영화목록 :  [91, 86]\n",
      "\n",
      "***영화 강추 순위***\n",
      "영화 강추 1순위:  토이 스토리\n",
      "영화 강추 2순위:  아기공룡 둘리 - 얼음별 대모험\n",
      "***영화 추천 순위***\n",
      "1순위 : 토이 스토리\n",
      "2순위 : 바람계곡의 나우시카\n",
      "3순위 : 벅스 라이프\n",
      "4순위 : 토이 스토리 2\n",
      "5순위 : 성원\n",
      "6순위 : 시월애\n",
      "7순위 : 라이언 일병 구하기\n",
      "8순위 : 사랑은 비를 타고\n",
      "9순위 : 해리 포터와 죽음의 성물 - 2부\n",
      "10순위 : 아나스타샤\n",
      "11순위 : 늑대와 춤을\n",
      "12순위 : 지금, 만나러 갑니다\n",
      "13순위 : 서유기 2 - 선리기연\n",
      "14순위 : 타짜\n",
      "15순위 : 브루스 올마이티\n",
      "16순위 : 패밀리 맨\n",
      "17순위 : 싸이코\n",
      "18순위 : 울지마 톤즈\n",
      "19순위 : 인디아나 존스\n",
      "20순위 : 클래식\n",
      "21순위 : 귀를 기울이면\n",
      "22순위 : 아기공룡 둘리 - 얼음별 대모험\n",
      "23순위 : 천공의 성 라퓨타\n",
      "24순위 : 혹성탈출\n",
      "25순위 : 빽 투 더 퓨쳐 3\n",
      "26순위 : 타잔\n",
      "27순위 : 미세스 다웃파이어\n",
      "28순위 : 서유기 - 월광보합\n",
      "29순위 : 겨울왕국\n",
      "30순위 : 아일라\n"
     ]
    }
   ],
   "source": [
    "cnt = 0\n",
    "same_movie = []\n",
    "k = 0\n",
    "recommended_movie_genre = list(movie_idx)\n",
    "print(recommended_movie_genre)\n",
    "recommended_movie_Tf = list(story_idx)\n",
    "print(recommended_movie_Tf)\n",
    "for i in range(movie_rec_num):\n",
    "    for j in range(movie_rec_num):\n",
    "        if recommended_movie_Tf[i][0] == recommended_movie_genre[j]:\n",
    "            cnt += 1\n",
    "            same_movie.append(recommended_movie_genre[j])\n",
    "\n",
    "print(\"test\" , recommended_movie_Tf[0][0])\n",
    "print(\"겹치는 영화의 수 : \", cnt)\n",
    "print(\"겹치는 영화목록 : \", same_movie)\n",
    "print()\n",
    "\n",
    "print('***영화 강추 순위***')\n",
    "for i in same_movie:\n",
    "    print(\"영화 강추 \" + str(k+1) + \"순위: \", title[i])\n",
    "    k += 1\n",
    "    \n",
    "story_idx = get_recomm('모노노케 히메')\n",
    "\n",
    "\n",
    "        "
   ]
  },
  {
   "cell_type": "code",
   "execution_count": null,
   "metadata": {},
   "outputs": [],
   "source": []
  }
 ],
 "metadata": {
  "kernelspec": {
   "display_name": "Python 3",
   "language": "python",
   "name": "python3"
  },
  "language_info": {
   "codemirror_mode": {
    "name": "ipython",
    "version": 3
   },
   "file_extension": ".py",
   "mimetype": "text/x-python",
   "name": "python",
   "nbconvert_exporter": "python",
   "pygments_lexer": "ipython3",
   "version": "3.8.5"
  }
 },
 "nbformat": 4,
 "nbformat_minor": 4
}
